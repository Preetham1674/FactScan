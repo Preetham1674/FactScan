{
 "cells": [
  {
   "cell_type": "code",
   "execution_count": 15,
   "metadata": {},
   "outputs": [
    {
     "name": "stdout",
     "output_type": "stream",
     "text": [
      "Libraries imported successfully!\n"
     ]
    }
   ],
   "source": [
    "# Import necessary libraries\n",
    "import pandas as pd\n",
    "from sklearn.feature_extraction.text import TfidfVectorizer\n",
    "from sklearn.metrics.pairwise import cosine_similarity\n",
    "\n",
    "print(\"Libraries imported successfully!\")\n"
   ]
  },
  {
   "cell_type": "code",
   "execution_count": 17,
   "metadata": {},
   "outputs": [],
   "source": [
    "data = pd.read_csv(\"C:\\\\Users\\\\Nikhil Nambiar\\\\FactScan - Codes\\\\complete_data_set.csv\")\n"
   ]
  },
  {
   "cell_type": "code",
   "execution_count": 20,
   "metadata": {},
   "outputs": [
    {
     "name": "stdout",
     "output_type": "stream",
     "text": [
      "Text preprocessed and converted to features!\n"
     ]
    }
   ],
   "source": [
    "\n",
    "# Replace NaN values with empty strings\n",
    "text = text.fillna('')\n",
    "\n",
    "# Vectorization: Transform text into numerical features\n",
    "vectorizer = TfidfVectorizer(max_features=2000)  # Adjust max_features as needed\n",
    "features = vectorizer.fit_transform(text)\n",
    "\n",
    "print(\"Text preprocessed and converted to features!\")\n"
   ]
  },
  {
   "cell_type": "code",
   "execution_count": 19,
   "metadata": {},
   "outputs": [
    {
     "name": "stdout",
     "output_type": "stream",
     "text": [
      "Cosine Similarity Function defined!\n"
     ]
    }
   ],
   "source": [
    "# Function to find most similar article using cosine similarity\n",
    "def predict_with_cosine(article, vectorizer):\n",
    "  # Transform new article into features\n",
    "  new_article_features = vectorizer.transform([article])\n",
    "\n",
    "  # Calculate cosine similarity between new article and all articles\n",
    "  similarities = cosine_similarity(new_article_features, features)\n",
    "\n",
    "  # Find most similar article (index)\n",
    "  most_similar_idx = similarities.argmax()\n",
    "\n",
    "  # Extract title of most similar article\n",
    "  most_similar_article = data[\"title\"].iloc[most_similar_idx]\n",
    "\n",
    "  # Return similarity score and most similar article title\n",
    "  return similarities[0][most_similar_idx], most_similar_article\n",
    "\n",
    "print(\"Cosine Similarity Function defined!\")\n"
   ]
  },
  {
   "cell_type": "code",
   "execution_count": 21,
   "metadata": {},
   "outputs": [
    {
     "name": "stdout",
     "output_type": "stream",
     "text": [
      "Cosine Similarity with Most Similar Article: 1.0\n",
      "Most Similar Article Title: Unattended Covid symptoms causing complications: Docs\n"
     ]
    }
   ],
   "source": [
    "# User enters a new article (replace with actual user input)\n",
    "new_article = input(\"Enter a news article to find similar ones: \")\n",
    "\n",
    "similarity, most_similar_title = predict_with_cosine(new_article, vectorizer)\n",
    "\n",
    "print(\"Cosine Similarity with Most Similar Article:\", similarity)\n",
    "print(\"Most Similar Article Title:\", most_similar_title)\n",
    "\n"
   ]
  }
 ],
 "metadata": {
  "kernelspec": {
   "display_name": "Python 3",
   "language": "python",
   "name": "python3"
  },
  "language_info": {
   "codemirror_mode": {
    "name": "ipython",
    "version": 3
   },
   "file_extension": ".py",
   "mimetype": "text/x-python",
   "name": "python",
   "nbconvert_exporter": "python",
   "pygments_lexer": "ipython3",
   "version": "3.10.11"
  }
 },
 "nbformat": 4,
 "nbformat_minor": 2
}
