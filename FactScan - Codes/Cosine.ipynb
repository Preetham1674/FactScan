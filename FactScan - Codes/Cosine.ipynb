{
 "cells": [
  {
   "cell_type": "code",
   "execution_count": 8,
   "metadata": {},
   "outputs": [
    {
     "name": "stdout",
     "output_type": "stream",
     "text": [
      "Text preprocessed and converted to features!\n",
      "(71726, 2000)\n"
     ]
    }
   ],
   "source": [
    "text = data[\"title\"]  \n",
    "labels = data[\"body\"]  \n",
    "\n",
    "\n",
    "vectorizer = TfidfVectorizer(max_features=2000)  \n",
    "features = vectorizer.fit_transform(text)\n",
    "\n",
    "print(\"Text preprocessed and converted to features!\")\n",
    "print(features.shape)  # Display the shape of the feature matrix (number of samples, number of features)\n",
    "\n",
    "\n",
    "\\\\  "
   ]
  },
  {
   "cell_type": "code",
   "execution_count": 9,
   "metadata": {},
   "outputs": [
    {
     "name": "stdout",
     "output_type": "stream",
     "text": [
      "Train-Test split completed!\n",
      "Training data size: (57380, 2000)\n",
      "Testing data size: (14346, 2000)\n"
     ]
    }
   ],
   "source": [
    "# Train-Test Split (assuming classification model, comment out if not needed)\n",
    "X_train, X_test, y_train, y_test = train_test_split(features, labels, test_size=0.2, random_state=42)\n",
    "\n",
    "print(\"Train-Test split completed!\")\n",
    "print(\"Training data size:\", X_train.shape)\n",
    "print(\"Testing data size:\", X_test.shape)\n"
   ]
  },
  {
   "cell_type": "code",
   "execution_count": 16,
   "metadata": {},
   "outputs": [
    {
     "name": "stdout",
     "output_type": "stream",
     "text": [
      "Cosine Similarity Function defined!\n"
     ]
    }
   ],
   "source": [
    "# Function to find most similar article using cosine similarity\n",
    "def predict_with_cosine(article, vectorizer):\n",
    "  # Transform new article into features\n",
    "  new_article_features = vectorizer.transform([article])\n",
    "\n",
    "  # Calculate cosine similarity between new article and all articles\n",
    "  similarities = cosine_similarity(new_article_features, features)\n",
    "\n",
    "  # Find most similar article (index)\n",
    "  most_similar_idx = similarities.argmax()\n",
    "\n",
    "  # Extract title of most similar article\n",
    "  most_similar_article = data[\"title\"].iloc[most_similar_idx]\n",
    "\n",
    "  # Return similarity score and most similar article title\n",
    "  return similarities[0][most_similar_idx], most_similar_article\n",
    "\n",
    "print(\"Cosine Similarity Function defined!\")\n"
   ]
  }
 ],
 "metadata": {
  "kernelspec": {
   "display_name": "Python 3",
   "language": "python",
   "name": "python3"
  },
  "language_info": {
   "codemirror_mode": {
    "name": "ipython",
    "version": 3
   },
   "file_extension": ".py",
   "mimetype": "text/x-python",
   "name": "python",
   "nbconvert_exporter": "python",
   "pygments_lexer": "ipython3",
   "version": "3.10.11"
  }
 },
 "nbformat": 4,
 "nbformat_minor": 2
}
